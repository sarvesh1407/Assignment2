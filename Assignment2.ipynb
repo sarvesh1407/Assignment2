{
  "nbformat": 4,
  "nbformat_minor": 0,
  "metadata": {
    "colab": {
      "name": "Assignment2.ipynb",
      "provenance": [],
      "collapsed_sections": []
    },
    "kernelspec": {
      "name": "python3",
      "display_name": "Python 3"
    }
  },
  "cells": [
    {
      "cell_type": "code",
      "metadata": {
        "id": "4XZh079wEho-",
        "colab_type": "code",
        "colab": {}
      },
      "source": [
        ""
      ],
      "execution_count": 0,
      "outputs": []
    },
    {
      "cell_type": "markdown",
      "metadata": {
        "id": "Zavd8wI1Eje5",
        "colab_type": "text"
      },
      "source": [
        "Write a Python Program to implement your own myreduce() function which works exactly like Python's built-in function reduce()"
      ]
    },
    {
      "cell_type": "code",
      "metadata": {
        "id": "gJp3VmU_Enqa",
        "colab_type": "code",
        "colab": {
          "base_uri": "https://localhost:8080/",
          "height": 34
        },
        "outputId": "6da25144-379b-4624-fe97-1b269b0493a6"
      },
      "source": [
        "def myreduce(ownfunc,seq):\n",
        "    res=seq[0]\n",
        "    for item in seq[1:]:\n",
        "        res=ownfunc(res,item)\n",
        "    return res\n",
        "\n",
        "def sum(x,y):\n",
        "    return x+y\n",
        "\n",
        "print (\"sum of list [2,3,4] using myreduce function \" + str(myreduce(sum,[2,3,4])))"
      ],
      "execution_count": 1,
      "outputs": [
        {
          "output_type": "stream",
          "text": [
            "sum of list [2,3,4] using myreduce function 9\n"
          ],
          "name": "stdout"
        }
      ]
    },
    {
      "cell_type": "markdown",
      "metadata": {
        "id": "QwzH95_zJhg1",
        "colab_type": "text"
      },
      "source": [
        "Write a Python program to implement your own myfilter() function which works exactly like Python's built-in function filter()\n"
      ]
    },
    {
      "cell_type": "code",
      "metadata": {
        "id": "0P02dkcqJlgO",
        "colab_type": "code",
        "colab": {
          "base_uri": "https://localhost:8080/",
          "height": 34
        },
        "outputId": "018e8925-24d5-4250-c892-42c79acda9b1"
      },
      "source": [
        "def myfilter(ownfunc,seq):\n",
        "  res=[]\n",
        "  for item in seq:\n",
        "    if ownfunc(item):\n",
        "      res.append(item)\n",
        "  return res\n",
        "\n",
        "def ispositive(x):\n",
        "  if (x<=0):\n",
        "    return False\n",
        "  else:\n",
        "    return True\n",
        "\n",
        "print(\"Filter only positive integers in list [0,1,-2,3,-4,5] from above function are \" + str(myfilter(ispositive,[0,1,-2,3,-4,5])))"
      ],
      "execution_count": 7,
      "outputs": [
        {
          "output_type": "stream",
          "text": [
            "Filter only positive integers in list [0,1,-2,3,-4,5] from above function are [1, 3, 5]\n"
          ],
          "name": "stdout"
        }
      ]
    },
    {
      "cell_type": "markdown",
      "metadata": {
        "id": "j9Pc0z31M9Sq",
        "colab_type": "text"
      },
      "source": [
        "Implement List comprehensions to produce the following lists. Write List comprehensions to produce the following Lists \n",
        "['A', 'C', 'A', 'D', 'G', 'I', ’L’, ‘ D’]\n",
        "['x', 'xx', 'xxx', 'xxxx', 'y', 'yy', 'yyy', 'yyyy', 'z', 'zz', 'zzz', 'zzzz'] ['x', 'y', 'z', 'xx', 'yy', 'zz', 'xx', 'yy', 'zz', 'xxxx', 'yyyy', 'zzzz']\n",
        "[[2], [3], [4], [3], [4], [5], [4], [5], [6]] \n",
        "[[2, 3, 4, 5], [3, 4, 5, 6], [4, 5, 6, 7], [5, 6, 7, 8]] \n",
        "[(1, 1), (2, 1), (3, 1), (1, 2), (2, 2), (3, 2), (1, 3), (2, 3), (3, 3)]\n"
      ]
    },
    {
      "cell_type": "code",
      "metadata": {
        "id": "fvpTzTi2NP55",
        "colab_type": "code",
        "colab": {
          "base_uri": "https://localhost:8080/",
          "height": 119
        },
        "outputId": "876de604-61b1-4c17-9696-6eebe4759394"
      },
      "source": [
        "list1=\"ACADGILD\"\n",
        "res1= [item for item in list1]\n",
        "print(str(res1))\n",
        "list2=['x','y','z']\n",
        "res2=[item*num for item in list2 for num in range(1,5)]\n",
        "print(str(res2))\n",
        "res3=[item*num for num in range(1,5) for item in list2]\n",
        "print(str(res3))\n",
        "list3 = [2,3,4]\n",
        "res4 = [ [item+num] for item in list3 for num in range(0,3)]\n",
        "print(str(res4))\n",
        "list4 = [2,3,4,5]\n",
        "res5 = [ [item+num for item in list4] for num in range(0,4)  ]\n",
        "print(str(res5))\n",
        "list5=[1,2,3]\n",
        "res6 = [ (b,a) for a in list5 for b in list5]\n",
        "print(str(res6))"
      ],
      "execution_count": 13,
      "outputs": [
        {
          "output_type": "stream",
          "text": [
            "['A', 'C', 'A', 'D', 'G', 'I', 'L', 'D']\n",
            "['x', 'xx', 'xxx', 'xxxx', 'y', 'yy', 'yyy', 'yyyy', 'z', 'zz', 'zzz', 'zzzz']\n",
            "['x', 'y', 'z', 'xx', 'yy', 'zz', 'xxx', 'yyy', 'zzz', 'xxxx', 'yyyy', 'zzzz']\n",
            "[[2], [3], [4], [3], [4], [5], [4], [5], [6]]\n",
            "[[2, 3, 4, 5], [3, 4, 5, 6], [4, 5, 6, 7], [5, 6, 7, 8]]\n",
            "[(1, 1), (2, 1), (3, 1), (1, 2), (2, 2), (3, 2), (1, 3), (2, 3), (3, 3)]\n"
          ],
          "name": "stdout"
        }
      ]
    },
    {
      "cell_type": "markdown",
      "metadata": {
        "id": "JQCkbjGaQRYd",
        "colab_type": "text"
      },
      "source": [
        "Implement a function longestWord() that takes a list of words and returns the longest one."
      ]
    },
    {
      "cell_type": "code",
      "metadata": {
        "id": "Derj3ypGQShW",
        "colab_type": "code",
        "colab": {
          "base_uri": "https://localhost:8080/",
          "height": 34
        },
        "outputId": "67aee918-5afc-4d1c-86b8-a55d397bcd14"
      },
      "source": [
        "def find_longest_word(words_list):\n",
        "    word_len = []\n",
        "    for n in words_list:\n",
        "        word_len.append((len(n), n))\n",
        "    word_len.sort()\n",
        "    return word_len[-1][1]\n",
        "\n",
        "print(find_longest_word([\"Sarvesh\", \"Singh\", \"Python\"]))"
      ],
      "execution_count": 14,
      "outputs": [
        {
          "output_type": "stream",
          "text": [
            "Sarvesh\n"
          ],
          "name": "stdout"
        }
      ]
    },
    {
      "cell_type": "markdown",
      "metadata": {
        "id": "hKPJz87hSG0h",
        "colab_type": "text"
      },
      "source": [
        "Write a Python Program(with class concepts) to find the area of the triangle using the below formula. area = (s*(s-a)*(s-b)*(s-c)) ** 0.5"
      ]
    },
    {
      "cell_type": "code",
      "metadata": {
        "id": "fmz6F4n7SIYr",
        "colab_type": "code",
        "colab": {
          "base_uri": "https://localhost:8080/",
          "height": 85
        },
        "outputId": "1b85a423-d451-43f0-b16e-57b52de93032"
      },
      "source": [
        "class Triangle:\n",
        "  def __init__(self,a,b,c):\n",
        "    self.a = a\n",
        "    self.b = b\n",
        "    self.c = c\n",
        "  def area(self):\n",
        "    s = (self.a + self.b + self.c)/2\n",
        "    return (s * (s - self.a)*(s - self.b)*(s - self.c)) ** 0.5\n",
        "\n",
        "sidea = int(input(\"Enter side a: \"))\n",
        "sideb = int(input(\"Enter side b: \"))\n",
        "sidec = int(input(\"Enter side c: \"))\n",
        "obj=Triangle(sidea,sideb,sidec)\n",
        "print(\"Area of triangle: \", round(obj.area(),2))"
      ],
      "execution_count": 48,
      "outputs": [
        {
          "output_type": "stream",
          "text": [
            "Enter side a: 4\n",
            "Enter side b: 6\n",
            "Enter side c: 8\n",
            "Area of triangle:  11.62\n"
          ],
          "name": "stdout"
        }
      ]
    },
    {
      "cell_type": "markdown",
      "metadata": {
        "id": "Ib6SX5AgVuVD",
        "colab_type": "text"
      },
      "source": [
        "Write a function filter_long_words() that takes a list of words and an integer n and returns the list of words that are longer than n."
      ]
    },
    {
      "cell_type": "code",
      "metadata": {
        "id": "leAQE0JAVv1r",
        "colab_type": "code",
        "colab": {
          "base_uri": "https://localhost:8080/",
          "height": 68
        },
        "outputId": "936e0028-1a95-487d-b75e-a61e70d71276"
      },
      "source": [
        "def longwords(wordlist, length):\n",
        "    return (word for word in wordlist if len(word) >= length)\n",
        "\n",
        "def main():\n",
        "    words = input(\"Enter words, separated by spaces: \").split()\n",
        "    length = int(input(\"Minimum length of words to keep: \"))\n",
        "    print(\"Words longer than {} are {}.\".format(length,\n",
        "          ', '.join(longwords(words, length))))\n",
        "\n",
        "main()"
      ],
      "execution_count": 19,
      "outputs": [
        {
          "output_type": "stream",
          "text": [
            "Enter words, separated by spaces: Sarvesh Singh Siddharth\n",
            "Minimum length of words to keep: 6\n",
            "Words longer than 6 are Sarvesh, Siddharth.\n"
          ],
          "name": "stdout"
        }
      ]
    },
    {
      "cell_type": "markdown",
      "metadata": {
        "id": "fBJDEl1QXCC-",
        "colab_type": "text"
      },
      "source": [
        "Write a Python program using function concept that maps list of words into a list of integers representing the lengths of the corresponding words."
      ]
    },
    {
      "cell_type": "code",
      "metadata": {
        "id": "B_zCIKPGXD9I",
        "colab_type": "code",
        "colab": {
          "base_uri": "https://localhost:8080/",
          "height": 34
        },
        "outputId": "52b8d3df-762e-4f39-fe19-1d4eeea82a99"
      },
      "source": [
        "def lengthword(words):\n",
        "    return [len(word) for word in words]\n",
        "words = ['Sarvesh', 'Singh', 'test']\n",
        "print (\"The size of words in integers in form of list \" +str (lengthword(words)))"
      ],
      "execution_count": 27,
      "outputs": [
        {
          "output_type": "stream",
          "text": [
            "The size of words in integers in form of list [7, 5, 4]\n"
          ],
          "name": "stdout"
        }
      ]
    },
    {
      "cell_type": "markdown",
      "metadata": {
        "id": "-dAQO5IcXlq7",
        "colab_type": "text"
      },
      "source": [
        "Write a Python function which takes a character (i.e. a string of length 1) and returns True if it is a vowel, False otherwise.\n"
      ]
    },
    {
      "cell_type": "code",
      "metadata": {
        "id": "2ItnbPUeXm-T",
        "colab_type": "code",
        "colab": {
          "base_uri": "https://localhost:8080/",
          "height": 51
        },
        "outputId": "ea50168a-8ccd-4ae2-dc00-68d715879a4a"
      },
      "source": [
        "def is_vowel(char):\n",
        "    vowels = ('a', 'e', 'i', 'o', 'u')\n",
        "    if char not in vowels:\n",
        "        return False\n",
        "    else:\n",
        "      return True   \n",
        "char = input(\"Enter your char: \")\n",
        "print (is_vowel(char))"
      ],
      "execution_count": 36,
      "outputs": [
        {
          "output_type": "stream",
          "text": [
            "Enter your char: e\n",
            "True\n"
          ],
          "name": "stdout"
        }
      ]
    }
  ]
}